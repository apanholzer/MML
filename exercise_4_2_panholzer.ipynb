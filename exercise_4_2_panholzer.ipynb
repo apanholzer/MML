{
 "cells": [
  {
   "cell_type": "markdown",
   "id": "fa7f71c7",
   "metadata": {},
   "source": [
    "## Problem 4.2 - Error Decomposition (by computer)"
   ]
  },
  {
   "cell_type": "code",
   "execution_count": 1,
   "id": "f16abc13",
   "metadata": {},
   "outputs": [],
   "source": [
    "#import libraries\n",
    "import numpy as np\n",
    "import matplotlib.pyplot as plt"
   ]
  },
  {
   "cell_type": "markdown",
   "id": "390a9fe2",
   "metadata": {},
   "source": [
    "##### functions for approximation and estimation error"
   ]
  },
  {
   "cell_type": "code",
   "execution_count": 17,
   "id": "a72857ea",
   "metadata": {},
   "outputs": [],
   "source": [
    "# define function for calculation the approximation error\n",
    "def approximation_error(N):\n",
    "    max_k = (N - 1) // 2\n",
    "    return 1/4 - 2/(np.pi)**2 * sum([1/(2 * k + 1)**2 for k in range(1,max_k + 1)])"
   ]
  },
  {
   "cell_type": "code",
   "execution_count": null,
   "id": "1173744c",
   "metadata": {},
   "outputs": [],
   "source": [
    "# define function for the estimation error depending on mu and lambda\n",
    "def estimation_error(mu, l):\n",
    "    if (len(mu) != len(l)):\n",
    "        print(\"dimension mismatch between mu and lambda\")\n",
    "        return\n",
    "    return sum((m - l)**2 for m, l in zip(mu, l))"
   ]
  },
  {
   "cell_type": "markdown",
   "id": "6d161f0d",
   "metadata": {},
   "source": [
    "##### approximation error "
   ]
  },
  {
   "cell_type": "code",
   "execution_count": null,
   "id": "ed703f87",
   "metadata": {},
   "outputs": [
    {
     "ename": "TypeError",
     "evalue": "'numpy.float64' object cannot be interpreted as an integer",
     "output_type": "error",
     "traceback": [
      "\u001b[31m---------------------------------------------------------------------------\u001b[39m",
      "\u001b[31mTypeError\u001b[39m                                 Traceback (most recent call last)",
      "\u001b[36mCell\u001b[39m\u001b[36m \u001b[39m\u001b[32mIn[16]\u001b[39m\u001b[32m, line 3\u001b[39m\n\u001b[32m      1\u001b[39m \u001b[38;5;66;03m# plot the approximation error for 1 <= N <= 10000 (logarimthmically in x and y)\u001b[39;00m\n\u001b[32m      2\u001b[39m N_values = np.logspace(\u001b[32m0\u001b[39m, \u001b[32m4\u001b[39m, num=\u001b[32m100\u001b[39m, dtype=\u001b[38;5;28mint\u001b[39m)\n\u001b[32m----> \u001b[39m\u001b[32m3\u001b[39m approx_errors = [\u001b[43mapproximation_error\u001b[49m\u001b[43m(\u001b[49m\u001b[43mN\u001b[49m\u001b[43m)\u001b[49m \u001b[38;5;28;01mfor\u001b[39;00m N \u001b[38;5;129;01min\u001b[39;00m N_values]\n\u001b[32m      4\u001b[39m plt.figure(figsize=(\u001b[32m10\u001b[39m, \u001b[32m6\u001b[39m))\n\u001b[32m      5\u001b[39m plt.loglog(N_values, approx_errors)\n",
      "\u001b[36mCell\u001b[39m\u001b[36m \u001b[39m\u001b[32mIn[11]\u001b[39m\u001b[32m, line 4\u001b[39m, in \u001b[36mapproximation_error\u001b[39m\u001b[34m(N)\u001b[39m\n\u001b[32m      2\u001b[39m \u001b[38;5;28;01mdef\u001b[39;00m\u001b[38;5;250m \u001b[39m\u001b[34mapproximation_error\u001b[39m(N):\n\u001b[32m      3\u001b[39m     max_k = np.floor((N - \u001b[32m1\u001b[39m) / \u001b[32m2\u001b[39m)\n\u001b[32m----> \u001b[39m\u001b[32m4\u001b[39m     \u001b[38;5;28;01mreturn\u001b[39;00m \u001b[32m1\u001b[39m/\u001b[32m4\u001b[39m - \u001b[32m2\u001b[39m/(np.pi)**\u001b[32m2\u001b[39m * \u001b[38;5;28msum\u001b[39m([\u001b[32m1\u001b[39m/(\u001b[32m2\u001b[39m * k + \u001b[32m1\u001b[39m)**\u001b[32m2\u001b[39m \u001b[38;5;28;01mfor\u001b[39;00m k \u001b[38;5;129;01min\u001b[39;00m \u001b[38;5;28;43mrange\u001b[39;49m\u001b[43m(\u001b[49m\u001b[32;43m1\u001b[39;49m\u001b[43m,\u001b[49m\u001b[43mmax_k\u001b[49m\u001b[43m \u001b[49m\u001b[43m+\u001b[49m\u001b[43m \u001b[49m\u001b[32;43m1\u001b[39;49m\u001b[43m)\u001b[49m])\n",
      "\u001b[31mTypeError\u001b[39m: 'numpy.float64' object cannot be interpreted as an integer"
     ]
    }
   ],
   "source": [
    "# plot the approximation error for 1 <= N <= 10000 (logarimthmically in x and y)\n",
    "N_values = range(1, 10001)\n",
    "approx_errors = [approximation_error(N) for N in N_values]\n",
    "\n",
    "plt.figure(figsize=(10, 6))\n",
    "plt.loglog(N_values, approx_errors)\n",
    "plt.xlabel('N')\n",
    "plt.ylabel('Approximation Error')\n",
    "plt.title('Approximation Error vs N')\n",
    "plt.grid(True)\n",
    "plt.show()"
   ]
  },
  {
   "cell_type": "code",
   "execution_count": null,
   "id": "40fa979c",
   "metadata": {},
   "outputs": [
    {
     "ename": "TypeError",
     "evalue": "expected a sequence of integers or a single integer, got 'np.float64(1.0)'",
     "output_type": "error",
     "traceback": [
      "\u001b[31m---------------------------------------------------------------------------\u001b[39m",
      "\u001b[31mTypeError\u001b[39m                                 Traceback (most recent call last)",
      "\u001b[36mCell\u001b[39m\u001b[36m \u001b[39m\u001b[32mIn[18]\u001b[39m\u001b[32m, line 10\u001b[39m\n\u001b[32m      8\u001b[39m indk = np.arange(\u001b[32m0\u001b[39m, k+\u001b[32m1\u001b[39m)\n\u001b[32m      9\u001b[39m lam = np.power(-\u001b[32m1\u001b[39m, indk) * np.sqrt(\u001b[32m2\u001b[39m)/np.pi / (\u001b[32m2\u001b[39m*indk + \u001b[32m1\u001b[39m)\n\u001b[32m---> \u001b[39m\u001b[32m10\u001b[39m lam = np.append([\u001b[32m0.5\u001b[39m], np.ravel([lam, \u001b[43mnp\u001b[49m\u001b[43m.\u001b[49m\u001b[43mzeros\u001b[49m\u001b[43m(\u001b[49m\u001b[43mk\u001b[49m\u001b[43m+\u001b[49m\u001b[32;43m1\u001b[39;49m\u001b[43m)\u001b[49m], \u001b[33m'\u001b[39m\u001b[33mF\u001b[39m\u001b[33m'\u001b[39m))\n\u001b[32m     11\u001b[39m lam = lam[:-\u001b[32m1\u001b[39m]  \u001b[38;5;66;03m# remove last element to match size N\u001b[39;00m\n\u001b[32m     13\u001b[39m \u001b[38;5;66;03m# average estimation error over 10 trials\u001b[39;00m\n",
      "\u001b[31mTypeError\u001b[39m: expected a sequence of integers or a single integer, got 'np.float64(1.0)'"
     ]
    }
   ],
   "source": [
    "# fix sample size and calculate estimation error\n",
    "n = 1000\n",
    "model_class_complexities = np.floor(np.power(10, np.linspace(0, 3, 20)))\n",
    "est_error = []\n",
    "\n",
    "for N in model_class_complexities:\n",
    "    k = (N - 1) // 2\n",
    "    indk = np.arange(0, k+1)\n",
    "    lam = np.power(-1, indk) * np.sqrt(2)/np.pi / (2*indk + 1)\n",
    "    lam = np.append([.5], np.ravel([lam, np.zeros(k+1)], 'F'))\n",
    "    lam = lam[:-1]  # remove last element to match size N\n",
    "\n",
    "    # average estimation error over 10 trials\n",
    "    trials = 10\n",
    "    total_error = 0\n",
    "    for _ in range(trials):\n",
    "        X = np.random.normal(0, 0.1, n)\n",
    "        true_y = X @ lam\n",
    "        mu = np.linalg.pinv(X.T @ X) @ X.T @ true_y\n",
    "        total_error += estimation_error(mu, lam)\n",
    "    est_error.append(total_error / trials)\n",
    "\n",
    "# plot estimation error against model class complexity\n",
    "plt.figure(figsize=(10, 6))\n",
    "plt.loglog(model_class_complexities, est_error)\n",
    "plt.xlabel('Model Class Complexity (N)')\n",
    "plt.ylabel('Estimation Error')\n",
    "plt.title('Estimation Error vs Model Class Complexity')\n",
    "plt.grid(True)\n",
    "plt.show()\n"
   ]
  },
  {
   "cell_type": "markdown",
   "id": "82e6dbe9",
   "metadata": {},
   "source": []
  },
  {
   "cell_type": "markdown",
   "id": "451d30df",
   "metadata": {},
   "source": []
  }
 ],
 "metadata": {
  "kernelspec": {
   "display_name": "Python 3",
   "language": "python",
   "name": "python3"
  },
  "language_info": {
   "codemirror_mode": {
    "name": "ipython",
    "version": 3
   },
   "file_extension": ".py",
   "mimetype": "text/x-python",
   "name": "python",
   "nbconvert_exporter": "python",
   "pygments_lexer": "ipython3",
   "version": "3.13.3"
  }
 },
 "nbformat": 4,
 "nbformat_minor": 5
}
