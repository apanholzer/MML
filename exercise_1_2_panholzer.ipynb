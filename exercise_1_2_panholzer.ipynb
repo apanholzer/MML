{
 "cells": [
  {
   "cell_type": "markdown",
   "id": "4b189d1b",
   "metadata": {},
   "source": [
    "# Problem 1.2 - Pearson correlation vs. Mutual Information"
   ]
  },
  {
   "cell_type": "markdown",
   "id": "d691326d",
   "metadata": {},
   "source": [
    "### Information on correlation types:\n",
    "pearson coefficient: number in [-1,1], where 1 indicates a positive linear relationship, -1 a negative linear relation and 0 no linear relation at all  \n",
    "the pearson coefficient cannot detect any nonlinear relations in data  \n",
    "  \n",
    "mutual information: number > 0, where a higher number indicates a stronger dependence. MI measures any kind of statistical dependencies, not only linear ones. "
   ]
  },
  {
   "cell_type": "code",
   "execution_count": 13,
   "id": "dc305e6a",
   "metadata": {},
   "outputs": [],
   "source": [
    "# importing libraries\n",
    "import numpy as np\n",
    "from scipy.stats import pearsonr\n",
    "from sklearn.feature_selection import mutual_info_regression"
   ]
  },
  {
   "cell_type": "code",
   "execution_count": 14,
   "id": "5910545c",
   "metadata": {},
   "outputs": [],
   "source": [
    "# create a function that tests correlations of mappings, dependent on standard deviation of the noise\n",
    "def experiment(function, sigma, n = 150):\n",
    "    x0 = np.random.uniform(0,1,n)\n",
    "    noise = np.random.normal(0,sigma,n)\n",
    "    y_clean = function(x0)\n",
    "    y0 = y_clean + noise\n",
    "    pearson,_ = pearsonr(x0, y0) \n",
    "    mi = mutual_info_regression(x0.reshape(-1,1),y0,random_state = 42)[0]\n",
    "    return pearson, mi\n"
   ]
  },
  {
   "cell_type": "code",
   "execution_count": 15,
   "id": "0abdbcda",
   "metadata": {},
   "outputs": [],
   "source": [
    "# define functions that should be tested\n",
    "def f(x):\n",
    "    return 2 * x - 1\n",
    "\n",
    "def g(x):\n",
    "    return np.sin(5 * np.pi * x)"
   ]
  },
  {
   "cell_type": "code",
   "execution_count": 16,
   "id": "1bd02d73",
   "metadata": {},
   "outputs": [
    {
     "name": "stdout",
     "output_type": "stream",
     "text": [
      "σ = 0.5\n",
      "f: Pearson = 0.7686, Mutual info = 0.4462\n",
      "g: Pearson = -0.0589, Mutual info = 0.4021\n",
      "σ = 0.2\n",
      "f: Pearson = 0.9481, Mutual info = 1.0793\n",
      "g: Pearson = 0.0333, Mutual info = 0.8661\n",
      "σ = 0.01\n",
      "f: Pearson = 0.9999, Mutual info = 3.3752\n",
      "g: Pearson = -0.1234, Mutual info = 1.0851\n"
     ]
    }
   ],
   "source": [
    "# call the experiment function for different standard deviations and print the results\n",
    "np.random.seed(42)\n",
    "sigmas = [0.5, 0.2, 0.01]\n",
    "for sigma in sigmas:\n",
    "    print(f\"σ = {sigma}\")\n",
    "    for function, name in [(f, \"f\"), (g, \"g\")]:\n",
    "        correlation, mi = experiment(function, sigma)\n",
    "        print(f\"{name}: Pearson = {correlation:.4f}, Mutual info = {mi:.4f}\")"
   ]
  },
  {
   "cell_type": "markdown",
   "id": "49c01aae",
   "metadata": {},
   "source": [
    "# Observations:\n",
    "for the linear function f:  \n",
    "--> Pearson coefficient goes to 1 with smaller vairance σ, which implies a strong linear correlation. (which makes sense since f is linear)  \n",
    "--> Mutual Information is always positive and increasing with smaller σ, so the dependecy increases. (dependance detected)  \n",
    "for nonlinear function g:  \n",
    "--> Pearson coefficient is near to 0, which indicates that no linear relationship between x and y is detected.  \n",
    "--> Mutual Information is always positive, so MI has deteced some kind of relation between x and y.  \n",
    "general for both functions:  \n",
    "--> with lower variance the dependecies can be detected better by both methods.  \n"
   ]
  },
  {
   "cell_type": "markdown",
   "id": "416edb0d",
   "metadata": {},
   "source": [
    "### Conclusion:\n",
    "Pearson is great for any linear dependency but nonlinear relations are better detected with mutual information."
   ]
  }
 ],
 "metadata": {
  "kernelspec": {
   "display_name": "Python 3",
   "language": "python",
   "name": "python3"
  },
  "language_info": {
   "codemirror_mode": {
    "name": "ipython",
    "version": 3
   },
   "file_extension": ".py",
   "mimetype": "text/x-python",
   "name": "python",
   "nbconvert_exporter": "python",
   "pygments_lexer": "ipython3",
   "version": "3.13.3"
  }
 },
 "nbformat": 4,
 "nbformat_minor": 5
}
