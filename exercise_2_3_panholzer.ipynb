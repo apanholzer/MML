{
 "cells": [
  {
   "cell_type": "markdown",
   "id": "900cd9ae",
   "metadata": {},
   "source": [
    "## Problem 2.3 - Multinomial Logistic Regression - Application"
   ]
  },
  {
   "cell_type": "markdown",
   "id": "3b022420",
   "metadata": {},
   "source": []
  }
 ],
 "metadata": {
  "language_info": {
   "name": "python"
  }
 },
 "nbformat": 4,
 "nbformat_minor": 5
}
