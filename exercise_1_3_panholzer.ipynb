{
 "cells": [
  {
   "cell_type": "markdown",
   "id": "9fa763aa",
   "metadata": {},
   "source": [
    "# Problem 1.3 - Chi-Square Test"
   ]
  },
  {
   "cell_type": "code",
   "execution_count": 1,
   "id": "c3d505a0",
   "metadata": {},
   "outputs": [],
   "source": [
    "from scipy.stats import chi2_contingency\n",
    "import pandas as pd"
   ]
  },
  {
   "cell_type": "code",
   "execution_count": 2,
   "id": "f516a568-03f2-4519-a4bc-28efffcb30ba",
   "metadata": {},
   "outputs": [
    {
     "data": {
      "text/html": [
       "<div>\n",
       "<style scoped>\n",
       "    .dataframe tbody tr th:only-of-type {\n",
       "        vertical-align: middle;\n",
       "    }\n",
       "\n",
       "    .dataframe tbody tr th {\n",
       "        vertical-align: top;\n",
       "    }\n",
       "\n",
       "    .dataframe thead th {\n",
       "        text-align: right;\n",
       "    }\n",
       "</style>\n",
       "<table border=\"1\" class=\"dataframe\">\n",
       "  <thead>\n",
       "    <tr style=\"text-align: right;\">\n",
       "      <th></th>\n",
       "      <th>ÖVP</th>\n",
       "      <th>SPÖ</th>\n",
       "      <th>FPÖ</th>\n",
       "      <th>Grüne</th>\n",
       "      <th>NEOS</th>\n",
       "      <th>JETZT</th>\n",
       "    </tr>\n",
       "  </thead>\n",
       "  <tbody>\n",
       "    <tr>\n",
       "      <th>Men</th>\n",
       "      <td>38</td>\n",
       "      <td>22</td>\n",
       "      <td>21</td>\n",
       "      <td>10</td>\n",
       "      <td>5</td>\n",
       "      <td>2</td>\n",
       "    </tr>\n",
       "    <tr>\n",
       "      <th>Women</th>\n",
       "      <td>36</td>\n",
       "      <td>22</td>\n",
       "      <td>11</td>\n",
       "      <td>17</td>\n",
       "      <td>11</td>\n",
       "      <td>2</td>\n",
       "    </tr>\n",
       "    <tr>\n",
       "      <th>≤ 29 years</th>\n",
       "      <td>27</td>\n",
       "      <td>14</td>\n",
       "      <td>20</td>\n",
       "      <td>27</td>\n",
       "      <td>8</td>\n",
       "      <td>3</td>\n",
       "    </tr>\n",
       "    <tr>\n",
       "      <th>30 - 59 years</th>\n",
       "      <td>38</td>\n",
       "      <td>20</td>\n",
       "      <td>16</td>\n",
       "      <td>14</td>\n",
       "      <td>9</td>\n",
       "      <td>3</td>\n",
       "    </tr>\n",
       "    <tr>\n",
       "      <th>≥ 60 years</th>\n",
       "      <td>43</td>\n",
       "      <td>31</td>\n",
       "      <td>13</td>\n",
       "      <td>5</td>\n",
       "      <td>6</td>\n",
       "      <td>1</td>\n",
       "    </tr>\n",
       "  </tbody>\n",
       "</table>\n",
       "</div>"
      ],
      "text/plain": [
       "               ÖVP  SPÖ  FPÖ  Grüne  NEOS  JETZT\n",
       "Men             38   22   21     10     5      2\n",
       "Women           36   22   11     17    11      2\n",
       "≤ 29 years      27   14   20     27     8      3\n",
       "30 - 59 years   38   20   16     14     9      3\n",
       "≥ 60 years      43   31   13      5     6      1"
      ]
     },
     "metadata": {},
     "output_type": "display_data"
    }
   ],
   "source": [
    "data = {'ÖVP': [38, 36, 27, 38, 43],\n",
    "        'SPÖ': [22, 22, 14, 20, 31],\n",
    "        'FPÖ': [21, 11, 20, 16, 13],\n",
    "        'Grüne': [10, 17, 27, 14, 5],\n",
    "        'NEOS': [5, 11, 8, 9, 6],\n",
    "        'JETZT': [2, 2, 3, 3, 1]}\n",
    "categories = ['Men', 'Women', '≤ 29 years', '30 - 59 years', '≥ 60 years']\n",
    "voting_df = pd.DataFrame(data, index = categories)\n",
    "\n",
    "display(voting_df)"
   ]
  },
  {
   "cell_type": "markdown",
   "id": "3c2143d7",
   "metadata": {},
   "source": [
    "### a) men and women"
   ]
  },
  {
   "cell_type": "code",
   "execution_count": 3,
   "id": "e59d010b",
   "metadata": {},
   "outputs": [],
   "source": [
    "# define confidence threshold\n",
    "alpha = 0.05"
   ]
  },
  {
   "cell_type": "code",
   "execution_count": 4,
   "id": "d2542bcd",
   "metadata": {},
   "outputs": [
    {
     "name": "stdout",
     "output_type": "stream",
     "text": [
      "voting bevaiour by gender\n"
     ]
    },
    {
     "data": {
      "text/html": [
       "<div>\n",
       "<style scoped>\n",
       "    .dataframe tbody tr th:only-of-type {\n",
       "        vertical-align: middle;\n",
       "    }\n",
       "\n",
       "    .dataframe tbody tr th {\n",
       "        vertical-align: top;\n",
       "    }\n",
       "\n",
       "    .dataframe thead th {\n",
       "        text-align: right;\n",
       "    }\n",
       "</style>\n",
       "<table border=\"1\" class=\"dataframe\">\n",
       "  <thead>\n",
       "    <tr style=\"text-align: right;\">\n",
       "      <th></th>\n",
       "      <th>ÖVP</th>\n",
       "      <th>SPÖ</th>\n",
       "      <th>FPÖ</th>\n",
       "      <th>Grüne</th>\n",
       "      <th>NEOS</th>\n",
       "      <th>JETZT</th>\n",
       "    </tr>\n",
       "  </thead>\n",
       "  <tbody>\n",
       "    <tr>\n",
       "      <th>Men</th>\n",
       "      <td>38</td>\n",
       "      <td>22</td>\n",
       "      <td>21</td>\n",
       "      <td>10</td>\n",
       "      <td>5</td>\n",
       "      <td>2</td>\n",
       "    </tr>\n",
       "    <tr>\n",
       "      <th>Women</th>\n",
       "      <td>36</td>\n",
       "      <td>22</td>\n",
       "      <td>11</td>\n",
       "      <td>17</td>\n",
       "      <td>11</td>\n",
       "      <td>2</td>\n",
       "    </tr>\n",
       "  </tbody>\n",
       "</table>\n",
       "</div>"
      ],
      "text/plain": [
       "       ÖVP  SPÖ  FPÖ  Grüne  NEOS  JETZT\n",
       "Men     38   22   21     10     5      2\n",
       "Women   36   22   11     17    11      2"
      ]
     },
     "metadata": {},
     "output_type": "display_data"
    },
    {
     "name": "stdout",
     "output_type": "stream",
     "text": [
      "Chi2:     7.2390\n",
      "p-value:  0.2034651524\n",
      "The voting behaviour is rather independent of gender.\n"
     ]
    }
   ],
   "source": [
    "print(\"voting bevaiour by gender\")\n",
    "gender_votes = voting_df.loc['Men' : 'Women']\n",
    "display(gender_votes)\n",
    "\n",
    "chi2, p, dof, expected = chi2_contingency(gender_votes) \n",
    "print(f\"Chi2:     {chi2:.4f}\")\n",
    "print(f\"p-value:  {p:.10f}\")\n",
    "\n",
    "if p <= alpha:\n",
    "    print(\"The voting behaviour depends (strongly) on gender.\")\n",
    "else:\n",
    "    print(\"The voting behaviour is rather independent of gender.\")"
   ]
  },
  {
   "cell_type": "markdown",
   "id": "d2c653a5",
   "metadata": {},
   "source": [
    "### b) people younger than 29 and people older than 60"
   ]
  },
  {
   "cell_type": "code",
   "execution_count": 5,
   "id": "5c8ed89d",
   "metadata": {},
   "outputs": [
    {
     "name": "stdout",
     "output_type": "stream",
     "text": [
      "voting behaviour by ages\n"
     ]
    },
    {
     "data": {
      "text/html": [
       "<div>\n",
       "<style scoped>\n",
       "    .dataframe tbody tr th:only-of-type {\n",
       "        vertical-align: middle;\n",
       "    }\n",
       "\n",
       "    .dataframe tbody tr th {\n",
       "        vertical-align: top;\n",
       "    }\n",
       "\n",
       "    .dataframe thead th {\n",
       "        text-align: right;\n",
       "    }\n",
       "</style>\n",
       "<table border=\"1\" class=\"dataframe\">\n",
       "  <thead>\n",
       "    <tr style=\"text-align: right;\">\n",
       "      <th></th>\n",
       "      <th>ÖVP</th>\n",
       "      <th>SPÖ</th>\n",
       "      <th>FPÖ</th>\n",
       "      <th>Grüne</th>\n",
       "      <th>NEOS</th>\n",
       "      <th>JETZT</th>\n",
       "    </tr>\n",
       "  </thead>\n",
       "  <tbody>\n",
       "    <tr>\n",
       "      <th>≤ 29 years</th>\n",
       "      <td>27</td>\n",
       "      <td>14</td>\n",
       "      <td>20</td>\n",
       "      <td>27</td>\n",
       "      <td>8</td>\n",
       "      <td>3</td>\n",
       "    </tr>\n",
       "    <tr>\n",
       "      <th>≥ 60 years</th>\n",
       "      <td>43</td>\n",
       "      <td>31</td>\n",
       "      <td>13</td>\n",
       "      <td>5</td>\n",
       "      <td>6</td>\n",
       "      <td>1</td>\n",
       "    </tr>\n",
       "  </tbody>\n",
       "</table>\n",
       "</div>"
      ],
      "text/plain": [
       "            ÖVP  SPÖ  FPÖ  Grüne  NEOS  JETZT\n",
       "≤ 29 years   27   14   20     27     8      3\n",
       "≥ 60 years   43   31   13      5     6      1"
      ]
     },
     "metadata": {},
     "output_type": "display_data"
    },
    {
     "name": "stdout",
     "output_type": "stream",
     "text": [
      "Chi2:     27.9749\n",
      "p-value:  0.0000368118\n",
      "The voting behaviour depends (strongly) on age.\n"
     ]
    }
   ],
   "source": [
    "print(\"voting behaviour by ages\")\n",
    "age_votes = voting_df.loc[['≤ 29 years', '≥ 60 years']]\n",
    "display(age_votes)\n",
    "\n",
    "chi2_age, p_age, dof_age, expected_age = chi2_contingency(age_votes)\n",
    "print(f\"Chi2:     {chi2_age:.4f}\")\n",
    "print(f\"p-value:  {p_age:.10f}\")\n",
    "\n",
    "if p_age <= alpha:\n",
    "    print(\"The voting behaviour depends (strongly) on age.\")\n",
    "else:\n",
    "    print(\"The voting behaviour is rather independent of age.\")"
   ]
  },
  {
   "cell_type": "markdown",
   "id": "2adf1844",
   "metadata": {},
   "source": [
    "### OBSERVATION:\n",
    "--> p_value for genderbased voting analysis is larger than the threshold. We have only weak dependecies.  \n",
    "--> p_value for agebased voting analysis is very small. We therefore see, that voting result strongly depend on the age.  "
   ]
  }
 ],
 "metadata": {
  "kernelspec": {
   "display_name": "Python 3",
   "language": "python",
   "name": "python3"
  },
  "language_info": {
   "codemirror_mode": {
    "name": "ipython",
    "version": 3
   },
   "file_extension": ".py",
   "mimetype": "text/x-python",
   "name": "python",
   "nbconvert_exporter": "python",
   "pygments_lexer": "ipython3",
   "version": "3.13.3"
  }
 },
 "nbformat": 4,
 "nbformat_minor": 5
}
