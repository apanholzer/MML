{
 "cells": [
  {
   "cell_type": "markdown",
   "id": "beff0468",
   "metadata": {},
   "source": [
    "# Problem 1.4 - Dimension Reduction via PCA"
   ]
  },
  {
   "cell_type": "code",
   "execution_count": 12,
   "id": "e3ac2d6d",
   "metadata": {},
   "outputs": [],
   "source": [
    "import urllib.request\n",
    "import gzip\n",
    "import shutil\n",
    "import numpy as np\n",
    "import pandas as pd\n",
    "urllib.request.urlretrieve(\"https://hastie.su.domains/ElemStatLearn/datasets/zip.train.gz\",filename='./digits_train')\n",
    "with gzip.open('digits_train', 'rb') as f_in:\n",
    "    with open('digits_train.txt', 'wb') as f_out:\n",
    "        shutil.copyfileobj(f_in, f_out)\n",
    "        \n",
    "# Load into data frame\n",
    "data_train = pd.read_csv('digits_train.txt', header=None, delimiter= ' ')\n",
    "\n",
    "# Extract features x and labels y\n",
    "x = data_train.iloc[:, 1:-1].values # Training data has one column of NaN entries\n",
    "y = data_train.iloc[:, 0].values\n",
    "\n",
    "indices = np.where(y == 3)[0]\n",
    "x = x[indices]"
   ]
  },
  {
   "cell_type": "code",
   "execution_count": 13,
   "id": "fbdb5d78-325b-4b97-a11b-ce447fbb5b9b",
   "metadata": {},
   "outputs": [
    {
     "data": {
      "text/html": [
       "<div>\n",
       "<style scoped>\n",
       "    .dataframe tbody tr th:only-of-type {\n",
       "        vertical-align: middle;\n",
       "    }\n",
       "\n",
       "    .dataframe tbody tr th {\n",
       "        vertical-align: top;\n",
       "    }\n",
       "\n",
       "    .dataframe thead th {\n",
       "        text-align: right;\n",
       "    }\n",
       "</style>\n",
       "<table border=\"1\" class=\"dataframe\">\n",
       "  <thead>\n",
       "    <tr style=\"text-align: right;\">\n",
       "      <th></th>\n",
       "      <th>0</th>\n",
       "      <th>1</th>\n",
       "      <th>2</th>\n",
       "      <th>3</th>\n",
       "      <th>4</th>\n",
       "      <th>5</th>\n",
       "      <th>6</th>\n",
       "      <th>7</th>\n",
       "      <th>8</th>\n",
       "      <th>9</th>\n",
       "      <th>...</th>\n",
       "      <th>248</th>\n",
       "      <th>249</th>\n",
       "      <th>250</th>\n",
       "      <th>251</th>\n",
       "      <th>252</th>\n",
       "      <th>253</th>\n",
       "      <th>254</th>\n",
       "      <th>255</th>\n",
       "      <th>256</th>\n",
       "      <th>257</th>\n",
       "    </tr>\n",
       "  </thead>\n",
       "  <tbody>\n",
       "    <tr>\n",
       "      <th>0</th>\n",
       "      <td>6.0</td>\n",
       "      <td>-1.0</td>\n",
       "      <td>-1.0</td>\n",
       "      <td>-1.0</td>\n",
       "      <td>-1.000</td>\n",
       "      <td>-1.000</td>\n",
       "      <td>-1.000</td>\n",
       "      <td>-1.000</td>\n",
       "      <td>-0.631</td>\n",
       "      <td>0.862</td>\n",
       "      <td>...</td>\n",
       "      <td>0.823</td>\n",
       "      <td>1.000</td>\n",
       "      <td>0.482</td>\n",
       "      <td>-0.474</td>\n",
       "      <td>-0.991</td>\n",
       "      <td>-1.000</td>\n",
       "      <td>-1.000</td>\n",
       "      <td>-1.000</td>\n",
       "      <td>-1.0</td>\n",
       "      <td>NaN</td>\n",
       "    </tr>\n",
       "    <tr>\n",
       "      <th>1</th>\n",
       "      <td>5.0</td>\n",
       "      <td>-1.0</td>\n",
       "      <td>-1.0</td>\n",
       "      <td>-1.0</td>\n",
       "      <td>-0.813</td>\n",
       "      <td>-0.671</td>\n",
       "      <td>-0.809</td>\n",
       "      <td>-0.887</td>\n",
       "      <td>-0.671</td>\n",
       "      <td>-0.853</td>\n",
       "      <td>...</td>\n",
       "      <td>-0.671</td>\n",
       "      <td>-0.033</td>\n",
       "      <td>0.761</td>\n",
       "      <td>0.762</td>\n",
       "      <td>0.126</td>\n",
       "      <td>-0.095</td>\n",
       "      <td>-0.671</td>\n",
       "      <td>-0.828</td>\n",
       "      <td>-1.0</td>\n",
       "      <td>NaN</td>\n",
       "    </tr>\n",
       "    <tr>\n",
       "      <th>2</th>\n",
       "      <td>4.0</td>\n",
       "      <td>-1.0</td>\n",
       "      <td>-1.0</td>\n",
       "      <td>-1.0</td>\n",
       "      <td>-1.000</td>\n",
       "      <td>-1.000</td>\n",
       "      <td>-1.000</td>\n",
       "      <td>-1.000</td>\n",
       "      <td>-1.000</td>\n",
       "      <td>-1.000</td>\n",
       "      <td>...</td>\n",
       "      <td>-1.000</td>\n",
       "      <td>-1.000</td>\n",
       "      <td>-0.109</td>\n",
       "      <td>1.000</td>\n",
       "      <td>-0.179</td>\n",
       "      <td>-1.000</td>\n",
       "      <td>-1.000</td>\n",
       "      <td>-1.000</td>\n",
       "      <td>-1.0</td>\n",
       "      <td>NaN</td>\n",
       "    </tr>\n",
       "    <tr>\n",
       "      <th>3</th>\n",
       "      <td>7.0</td>\n",
       "      <td>-1.0</td>\n",
       "      <td>-1.0</td>\n",
       "      <td>-1.0</td>\n",
       "      <td>-1.000</td>\n",
       "      <td>-1.000</td>\n",
       "      <td>-0.273</td>\n",
       "      <td>0.684</td>\n",
       "      <td>0.960</td>\n",
       "      <td>0.450</td>\n",
       "      <td>...</td>\n",
       "      <td>1.000</td>\n",
       "      <td>0.536</td>\n",
       "      <td>-0.987</td>\n",
       "      <td>-1.000</td>\n",
       "      <td>-1.000</td>\n",
       "      <td>-1.000</td>\n",
       "      <td>-1.000</td>\n",
       "      <td>-1.000</td>\n",
       "      <td>-1.0</td>\n",
       "      <td>NaN</td>\n",
       "    </tr>\n",
       "    <tr>\n",
       "      <th>4</th>\n",
       "      <td>3.0</td>\n",
       "      <td>-1.0</td>\n",
       "      <td>-1.0</td>\n",
       "      <td>-1.0</td>\n",
       "      <td>-1.000</td>\n",
       "      <td>-1.000</td>\n",
       "      <td>-0.928</td>\n",
       "      <td>-0.204</td>\n",
       "      <td>0.751</td>\n",
       "      <td>0.466</td>\n",
       "      <td>...</td>\n",
       "      <td>0.639</td>\n",
       "      <td>1.000</td>\n",
       "      <td>1.000</td>\n",
       "      <td>0.791</td>\n",
       "      <td>0.439</td>\n",
       "      <td>-0.199</td>\n",
       "      <td>-0.883</td>\n",
       "      <td>-1.000</td>\n",
       "      <td>-1.0</td>\n",
       "      <td>NaN</td>\n",
       "    </tr>\n",
       "  </tbody>\n",
       "</table>\n",
       "<p>5 rows × 258 columns</p>\n",
       "</div>"
      ],
      "text/plain": [
       "   0    1    2    3      4      5      6      7      8      9    ...    248  \\\n",
       "0  6.0 -1.0 -1.0 -1.0 -1.000 -1.000 -1.000 -1.000 -0.631  0.862  ...  0.823   \n",
       "1  5.0 -1.0 -1.0 -1.0 -0.813 -0.671 -0.809 -0.887 -0.671 -0.853  ... -0.671   \n",
       "2  4.0 -1.0 -1.0 -1.0 -1.000 -1.000 -1.000 -1.000 -1.000 -1.000  ... -1.000   \n",
       "3  7.0 -1.0 -1.0 -1.0 -1.000 -1.000 -0.273  0.684  0.960  0.450  ...  1.000   \n",
       "4  3.0 -1.0 -1.0 -1.0 -1.000 -1.000 -0.928 -0.204  0.751  0.466  ...  0.639   \n",
       "\n",
       "     249    250    251    252    253    254    255  256  257  \n",
       "0  1.000  0.482 -0.474 -0.991 -1.000 -1.000 -1.000 -1.0  NaN  \n",
       "1 -0.033  0.761  0.762  0.126 -0.095 -0.671 -0.828 -1.0  NaN  \n",
       "2 -1.000 -0.109  1.000 -0.179 -1.000 -1.000 -1.000 -1.0  NaN  \n",
       "3  0.536 -0.987 -1.000 -1.000 -1.000 -1.000 -1.000 -1.0  NaN  \n",
       "4  1.000  1.000  0.791  0.439 -0.199 -0.883 -1.000 -1.0  NaN  \n",
       "\n",
       "[5 rows x 258 columns]"
      ]
     },
     "execution_count": 13,
     "metadata": {},
     "output_type": "execute_result"
    }
   ],
   "source": [
    "data_train.head(5)"
   ]
  },
  {
   "cell_type": "markdown",
   "id": "d30a247e",
   "metadata": {},
   "source": [
    "### What do these lines do?\n",
    "1-5: importing the needed libraries  \n",
    "6:   downloads the training data from the website as zip.train.gz (compressed dataset of digit images)  \n",
    "7:   opens the training file in 'rb'-mode so for reading in binary  \n",
    "8:   opens a new txt file for writing ('wb')  \n",
    "9:   copies the content from the compressed input file into the output file -> now we have a plain .txt file containing the dataset  \n",
    "10:  loads the dataset into a pandas-dataframe. There is no header row in the file. Numbers are separated by whitespaces.  \n",
    "11:  x contains the pixel values as a numpy array. All rows and columns from 1 to (not including) last. We skip 0 (labels) and last (NaN). -> x = matrix(n_samples, 265)  \n",
    "12:  y contains the corresponding labels i.e. which digit it is. (0-9) -> y = 1D array of all digit labels.  \n",
    "13:  indices is a vector selecting all row numbers where the digit is 3. (boolean mask)  \n",
    "14:  takes those rows from x where the label was 3 -> x contains only images of 3  "
   ]
  },
  {
   "cell_type": "code",
   "execution_count": 14,
   "id": "74ddc6fa",
   "metadata": {},
   "outputs": [],
   "source": [
    "from sklearn.decomposition import PCA\n",
    "import matplotlib.pyplot as plt"
   ]
  },
  {
   "cell_type": "code",
   "execution_count": 15,
   "id": "ff432024",
   "metadata": {},
   "outputs": [
    {
     "data": {
      "image/png": "[encoded data removed]",
      "text/plain": [
       "<Figure size 1500x4500 with 3 Axes>"
      ]
     },
     "metadata": {},
     "output_type": "display_data"
    }
   ],
   "source": [
    "# Plot first three instances: (copied from the instructions in moodle)\n",
    "fig, ax = plt.subplots(1,3,figsize = (15,45))\n",
    "ax[0].imshow(x[0].reshape(16,16), cmap = 'gray_r')\n",
    "ax[0].axis('off');\n",
    "ax[1].imshow(x[1].reshape(16,16), cmap = 'gray_r')\n",
    "ax[1].axis('off');\n",
    "ax[2].imshow(x[2].reshape(16,16), cmap = 'gray_r')\n",
    "ax[2].axis('off');"
   ]
  },
  {
   "cell_type": "code",
   "execution_count": 16,
   "id": "f5e8b08a",
   "metadata": {},
   "outputs": [
    {
     "data": {
      "image/png": "[encoded data removed]",
      "text/plain": [
       "<Figure size 1500x4500 with 2 Axes>"
      ]
     },
     "metadata": {},
     "output_type": "display_data"
    }
   ],
   "source": [
    "pca = PCA(n_components = 2)\n",
    "x_reduced = pca.fit_transform(x)\n",
    "V_q = pca.components_\n",
    "\n",
    "plt.figure(figsize = (15,45))\n",
    "for i in range(2):\n",
    "    plt.subplot(1, 2, i + 1)\n",
    "    plt.imshow(V_q[i].reshape(16,16), cmap = 'RdPu')\n",
    "    plt.title(f'Principal Component {i + 1}')\n",
    "    plt.axis('off')\n",
    "plt.show()"
   ]
  },
  {
   "cell_type": "markdown",
   "id": "07242344",
   "metadata": {},
   "source": [
    "## Interpretation:\n",
    "As we sampled onto rank 2, each image is described by two two numbers. The pictures describe the typical ways in which a handwritten 3 can vary.  \n",
    "Idea:  \n",
    "PC1 - describes variantion in top and bottom curve of the 3s  \n",
    "PC2 - pictures roundness/curvature of the 3s\n"
   ]
  },
  {
   "cell_type": "code",
   "execution_count": 17,
   "id": "61ed4942",
   "metadata": {},
   "outputs": [
    {
     "data": {
      "image/png": "[encoded data removed]",
      "text/plain": [
       "<Figure size 640x480 with 2 Axes>"
      ]
     },
     "metadata": {},
     "output_type": "display_data"
    }
   ],
   "source": [
    "# Plot rank-2 Interpretation of one digit\n",
    "\n",
    "x0 = x[0]\n",
    "x0_reduced = pca.transform(x0.reshape(1, -1))\n",
    "x0_reconstructed = pca.inverse_transform(x0_reduced)\n",
    "\n",
    "plt.subplot(1,2,1)\n",
    "plt.imshow(x0.reshape(16,16), cmap = 'RdPu')\n",
    "plt.title(\"Original image\")\n",
    "plt.axis('off')\n",
    "\n",
    "plt.subplot(1,2,2)\n",
    "plt.imshow(x0_reconstructed.reshape(16,16), cmap = 'RdPu')\n",
    "plt.title(\"Rank-2 Representation\")\n",
    "plt.axis('off')\n",
    "\n",
    "plt.show()"
   ]
  },
  {
   "cell_type": "markdown",
   "id": "3ea84e9a",
   "metadata": {},
   "source": [
    "### Bonus:"
   ]
  },
  {
   "cell_type": "code",
   "execution_count": 18,
   "id": "6fdb4ff0",
   "metadata": {},
   "outputs": [],
   "source": [
    "errors = []\n",
    "\n",
    "for q in range(1,257):\n",
    "    pca = PCA(n_components = q)\n",
    "    x_reduced = pca.fit_transform(x)\n",
    "    x_reconstructed = pca.inverse_transform(x_reduced)\n",
    "\n",
    "    E_q = np.mean(np.linalg.norm(x - x_reconstructed) / np.linalg.norm(x))\n",
    "    errors.append(E_q)"
   ]
  },
  {
   "cell_type": "code",
   "execution_count": 19,
   "id": "55bf53e1-664b-4c08-bd6a-44c424958350",
   "metadata": {},
   "outputs": [
    {
     "data": {
      "image/png": "[encoded data removed]",
      "text/plain": [
       "<Figure size 640x480 with 1 Axes>"
      ]
     },
     "metadata": {},
     "output_type": "display_data"
    },
    {
     "name": "stdout",
     "output_type": "stream",
     "text": [
      "First q with error < 1/3:  21\n"
     ]
    }
   ],
   "source": [
    "plt.plot(range(1,257), errors)\n",
    "plt.xlabel(\"q\")\n",
    "plt.ylabel(\"Average relative construction error E(q)\")\n",
    "plt.title(\"Reconstruction error by rank\")\n",
    "plt.grid(True, alpha = 0.5)\n",
    "plt.show()\n",
    "\n",
    "q_threshold = np.argmax(np.array(errors) < 1/3) + 1 # returns first index where condition is met, +1 for 1-based index\n",
    "print(\"First q with error < 1/3: \", q_threshold)"
   ]
  }
 ],
 "metadata": {
  "kernelspec": {
   "display_name": "Python 3",
   "language": "python",
   "name": "python3"
  },
  "language_info": {
   "codemirror_mode": {
    "name": "ipython",
    "version": 3
   },
   "file_extension": ".py",
   "mimetype": "text/x-python",
   "name": "python",
   "nbconvert_exporter": "python",
   "pygments_lexer": "ipython3",
   "version": "3.13.3"
  }
 },
 "nbformat": 4,
 "nbformat_minor": 5
}
